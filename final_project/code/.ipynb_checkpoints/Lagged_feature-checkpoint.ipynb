{
 "cells": [
  {
   "cell_type": "code",
   "execution_count": 1,
   "metadata": {},
   "outputs": [],
   "source": [
    "import pandas as pd\n",
    "from matplotlib import pyplot as plt\n",
    "import os\n",
    "import numpy as np\n",
    "from matplotlib import pyplot as plt\n",
    "from datetime import datetime\n",
    "from itertools import product"
   ]
  },
  {
   "cell_type": "markdown",
   "metadata": {},
   "source": [
    "### utility func"
   ]
  },
  {
   "cell_type": "code",
   "execution_count": 2,
   "metadata": {},
   "outputs": [],
   "source": [
    "def save_pred_to_csv(pred, msg='', dir_name='../predictions/'):\n",
    "    \"\"\"\n",
    "    save prediction results to csv.\n",
    "    \n",
    "    Add time as idfier. Other info can be passed to msg.\n",
    "    \n",
    "    Args:\n",
    "        pred(DataFrame): prediction result.\n",
    "        \n",
    "        msg(str): extra message want to include in file_name\n",
    "        \n",
    "        dir(name): directory name\n",
    "        \n",
    "    Return None\n",
    "    \"\"\"\n",
    "    try:\n",
    "        pred = pred[['ID', 'item_cnt_month']]\n",
    "    except:\n",
    "        raise Exception('ID or item_cnt_month column not found')\n",
    "    \n",
    "    str_datetime = datetime.now().strftime(\"%m%d_%H_%M\")\n",
    "    full_name = dir_name + msg + '_' + str_datetime + '.csv'\n",
    "    \n",
    "    pred.to_csv(full_name, index=False)\n",
    "    "
   ]
  },
  {
   "cell_type": "code",
   "execution_count": 3,
   "metadata": {},
   "outputs": [],
   "source": [
    "data_dir = os.path.dirname(os.getcwd()) + '/data/'\n",
    "files = os.listdir(data_dir)\n",
    "\n",
    "train = pd.read_csv(data_dir + files[1])\n",
    "test = pd.read_csv(data_dir + files[3])\n",
    "\n",
    "shops = pd.read_csv(data_dir + files[2])\n",
    "item_cat = pd.read_csv(data_dir + files[4])\n",
    "item = pd.read_csv(data_dir + files[5])\n",
    "sample_sub = pd.read_csv(data_dir + files[6])"
   ]
  },
  {
   "cell_type": "code",
   "execution_count": 6,
   "metadata": {},
   "outputs": [
    {
     "data": {
      "text/plain": [
       "(214200, 3)"
      ]
     },
     "execution_count": 6,
     "metadata": {},
     "output_type": "execute_result"
    }
   ],
   "source": [
    "test.shape"
   ]
  },
  {
   "cell_type": "markdown",
   "metadata": {},
   "source": [
    "### select those shop and items that appears in test. (think of ways to utilize those unpresanted later)"
   ]
  },
  {
   "cell_type": "code",
   "execution_count": 42,
   "metadata": {},
   "outputs": [
    {
     "name": "stdout",
     "output_type": "stream",
     "text": [
      "train_lk shape:  (1224439, 6)\n"
     ]
    }
   ],
   "source": [
    "train_lk = train[train.shop_id.isin(test.shop_id.unique())]\n",
    "train_lk = train_lk[train_lk.item_id.isin(test.item_id.unique())]\n",
    "print('train_lk shape: ', train_lk.shape)"
   ]
  },
  {
   "cell_type": "markdown",
   "metadata": {},
   "source": [
    "### generate month sum and month mean"
   ]
  },
  {
   "cell_type": "code",
   "execution_count": 43,
   "metadata": {},
   "outputs": [
    {
     "name": "stdout",
     "output_type": "stream",
     "text": [
      "item_cnt_month 99% quantile:  21.0\n",
      "item_cnt_mean 99% quantile:  2.5\n"
     ]
    }
   ],
   "source": [
    "train_lk_gp = train_lk.groupby(['date_block_num', 'shop_id', 'item_id'], as_index=False)\n",
    "train_lk = train_lk_gp.agg({'item_cnt_day': ['sum', 'mean']})\n",
    "train_lk.columns = ['date_block_num', 'shop_id', 'item_id', 'item_cnt_month', 'item_cnt_mean']\n",
    "\n",
    "cnt_bound = train_lk.item_cnt_month.quantile(0.99)\n",
    "mean_bound = train_lk.item_cnt_mean.quantile(0.99)\n",
    "print('item_cnt_month 99% quantile: ', cnt_bound)\n",
    "print('item_cnt_mean 99% quantile: ', mean_bound)\n",
    "# clip item_cnt_month between [0, 21] and item_cnt_mean between [0, 2.5]\n",
    "train_lk['item_cnt_month'] = train_lk['item_cnt_month'].clip(lower=0, upper=cnt_bound)\n",
    "train_lk['item_cnt_mean'] = train_lk['item_cnt_mean'].clip(lower=0, upper=mean_bound)"
   ]
  },
  {
   "cell_type": "code",
   "execution_count": 44,
   "metadata": {},
   "outputs": [
    {
     "data": {
      "text/plain": [
       "(array([1.16500e+03, 2.00000e+00, 5.06000e+02, 2.00000e+00, 4.41000e+02,\n",
       "        1.72000e+02, 2.10000e+02, 4.80000e+01, 5.33813e+05, 1.08690e+04,\n",
       "        1.62730e+04, 3.55800e+03, 1.14150e+04, 2.74200e+03, 1.63400e+03,\n",
       "        4.40000e+02, 9.19400e+03, 4.83000e+02, 6.49000e+02, 6.54300e+03]),\n",
       " array([0.   , 0.125, 0.25 , 0.375, 0.5  , 0.625, 0.75 , 0.875, 1.   ,\n",
       "        1.125, 1.25 , 1.375, 1.5  , 1.625, 1.75 , 1.875, 2.   , 2.125,\n",
       "        2.25 , 2.375, 2.5  ]),\n",
       " <a list of 20 Patch objects>)"
      ]
     },
     "execution_count": 44,
     "metadata": {},
     "output_type": "execute_result"
    },
    {
     "data": {
      "image/png": "[encoded data removed]",
      "text/plain": [
       "<Figure size 432x288 with 1 Axes>"
      ]
     },
     "metadata": {},
     "output_type": "display_data"
    }
   ],
   "source": [
    "plt.hist(train_lk.item_cnt_mean, bins=20, log=True)"
   ]
  },
  {
   "cell_type": "code",
   "execution_count": 45,
   "metadata": {},
   "outputs": [
    {
     "data": {
      "text/plain": [
       "(array([360634., 109854.,  45773.,  24321.,  15026.,   9838.,   6600.,\n",
       "          4972.,   3553.,   2810.,   2082.,   1714.,   1482.,   1161.,\n",
       "          1003.,    836.,    761.,    628.,    570.,   6541.]),\n",
       " array([ 0.  ,  1.05,  2.1 ,  3.15,  4.2 ,  5.25,  6.3 ,  7.35,  8.4 ,\n",
       "         9.45, 10.5 , 11.55, 12.6 , 13.65, 14.7 , 15.75, 16.8 , 17.85,\n",
       "        18.9 , 19.95, 21.  ]),\n",
       " <a list of 20 Patch objects>)"
      ]
     },
     "execution_count": 45,
     "metadata": {},
     "output_type": "execute_result"
    },
    {
     "data": {
      "image/png": "[encoded data removed]",
      "text/plain": [
       "<Figure size 432x288 with 1 Axes>"
      ]
     },
     "metadata": {},
     "output_type": "display_data"
    }
   ],
   "source": [
    "plt.hist(train_lk.item_cnt_month, bins=20, log=True)"
   ]
  },
  {
   "cell_type": "markdown",
   "metadata": {},
   "source": [
    "### Generate cartisian products of date_block_num, shop_id, item_id"
   ]
  },
  {
   "cell_type": "code",
   "execution_count": 46,
   "metadata": {},
   "outputs": [
    {
     "name": "stdout",
     "output_type": "stream",
     "text": [
      "train_cartisian shape:  (6734448, 3)\n"
     ]
    }
   ],
   "source": [
    "car_prod = np.array(list(product(*[train_lk.date_block_num.unique(), train_lk.shop_id.unique(), train_lk.item_id.unique()])))\n",
    "train_car = pd.DataFrame(car_prod, columns=['date_block_num', 'shop_id', 'item_id'])\n",
    "print('train_cartisian shape: ', train_car.shape)\n",
    "\n",
    "train_lk = pd.merge(train_car, train_lk, how='left', on=['date_block_num', 'shop_id', 'item_id'])\n",
    "train_lk.fillna(0, inplace=True)"
   ]
  },
  {
   "cell_type": "code",
   "execution_count": 47,
   "metadata": {},
   "outputs": [
    {
     "data": {
      "text/html": [
       "<div>\n",
       "<style scoped>\n",
       "    .dataframe tbody tr th:only-of-type {\n",
       "        vertical-align: middle;\n",
       "    }\n",
       "\n",
       "    .dataframe tbody tr th {\n",
       "        vertical-align: top;\n",
       "    }\n",
       "\n",
       "    .dataframe thead th {\n",
       "        text-align: right;\n",
       "    }\n",
       "</style>\n",
       "<table border=\"1\" class=\"dataframe\">\n",
       "  <thead>\n",
       "    <tr style=\"text-align: right;\">\n",
       "      <th></th>\n",
       "      <th>date_block_num</th>\n",
       "      <th>shop_id</th>\n",
       "      <th>item_id</th>\n",
       "      <th>item_cnt_month</th>\n",
       "      <th>item_cnt_mean</th>\n",
       "    </tr>\n",
       "  </thead>\n",
       "  <tbody>\n",
       "    <tr>\n",
       "      <th>0</th>\n",
       "      <td>0</td>\n",
       "      <td>2</td>\n",
       "      <td>33</td>\n",
       "      <td>1.0</td>\n",
       "      <td>1.0</td>\n",
       "    </tr>\n",
       "    <tr>\n",
       "      <th>1</th>\n",
       "      <td>0</td>\n",
       "      <td>2</td>\n",
       "      <td>482</td>\n",
       "      <td>1.0</td>\n",
       "      <td>1.0</td>\n",
       "    </tr>\n",
       "  </tbody>\n",
       "</table>\n",
       "</div>"
      ],
      "text/plain": [
       "   date_block_num  shop_id  item_id  item_cnt_month  item_cnt_mean\n",
       "0               0        2       33             1.0            1.0\n",
       "1               0        2      482             1.0            1.0"
      ]
     },
     "execution_count": 47,
     "metadata": {},
     "output_type": "execute_result"
    }
   ],
   "source": [
    "train_lk.head(2)"
   ]
  },
  {
   "cell_type": "markdown",
   "metadata": {},
   "source": [
    "### Add lag features"
   ]
  },
  {
   "cell_type": "code",
   "execution_count": 48,
   "metadata": {},
   "outputs": [],
   "source": [
    "lags = [1]\n",
    "\n",
    "for lag in lags:\n",
    "    train_lk['item_cnt_month_lag_' + str(lag)] = train_lk.sort_values('date_block_num')\\\n",
    "    .groupby(['shop_id', 'item_id'])['item_cnt_month'].shift(lag)\n",
    "    train_lk['item_cnt_mean_lag_' + str(lag)] = train_lk.sort_values('date_block_num')\\\n",
    "    .groupby(['shop_id', 'item_id'])['item_cnt_mean'].shift(lag)"
   ]
  },
  {
   "cell_type": "markdown",
   "metadata": {},
   "source": [
    "### Add month feature"
   ]
  },
  {
   "cell_type": "code",
   "execution_count": 49,
   "metadata": {},
   "outputs": [],
   "source": [
    "train_lk['month'] = train_lk['date_block_num'] % 12"
   ]
  },
  {
   "cell_type": "markdown",
   "metadata": {},
   "source": [
    "### Identify target"
   ]
  },
  {
   "cell_type": "markdown",
   "metadata": {},
   "source": [
    "Since our job is to predict the next month salses, the target should be next month sales not the current month!"
   ]
  },
  {
   "cell_type": "code",
   "execution_count": 50,
   "metadata": {},
   "outputs": [
    {
     "data": {
      "text/html": [
       "<div>\n",
       "<style scoped>\n",
       "    .dataframe tbody tr th:only-of-type {\n",
       "        vertical-align: middle;\n",
       "    }\n",
       "\n",
       "    .dataframe tbody tr th {\n",
       "        vertical-align: top;\n",
       "    }\n",
       "\n",
       "    .dataframe thead th {\n",
       "        text-align: right;\n",
       "    }\n",
       "</style>\n",
       "<table border=\"1\" class=\"dataframe\">\n",
       "  <thead>\n",
       "    <tr style=\"text-align: right;\">\n",
       "      <th></th>\n",
       "      <th>date_block_num</th>\n",
       "      <th>shop_id</th>\n",
       "      <th>item_id</th>\n",
       "      <th>item_cnt_month</th>\n",
       "      <th>item_cnt_mean</th>\n",
       "      <th>item_cnt_month_lag_1</th>\n",
       "      <th>item_cnt_mean_lag_1</th>\n",
       "      <th>month</th>\n",
       "      <th>target</th>\n",
       "    </tr>\n",
       "  </thead>\n",
       "  <tbody>\n",
       "    <tr>\n",
       "      <th>6734443</th>\n",
       "      <td>33</td>\n",
       "      <td>36</td>\n",
       "      <td>9103</td>\n",
       "      <td>0.0</td>\n",
       "      <td>0.0</td>\n",
       "      <td>0.0</td>\n",
       "      <td>0.0</td>\n",
       "      <td>9</td>\n",
       "      <td>NaN</td>\n",
       "    </tr>\n",
       "    <tr>\n",
       "      <th>6734444</th>\n",
       "      <td>33</td>\n",
       "      <td>36</td>\n",
       "      <td>9107</td>\n",
       "      <td>0.0</td>\n",
       "      <td>0.0</td>\n",
       "      <td>0.0</td>\n",
       "      <td>0.0</td>\n",
       "      <td>9</td>\n",
       "      <td>NaN</td>\n",
       "    </tr>\n",
       "    <tr>\n",
       "      <th>6734445</th>\n",
       "      <td>33</td>\n",
       "      <td>36</td>\n",
       "      <td>10204</td>\n",
       "      <td>0.0</td>\n",
       "      <td>0.0</td>\n",
       "      <td>0.0</td>\n",
       "      <td>0.0</td>\n",
       "      <td>9</td>\n",
       "      <td>NaN</td>\n",
       "    </tr>\n",
       "    <tr>\n",
       "      <th>6734446</th>\n",
       "      <td>33</td>\n",
       "      <td>36</td>\n",
       "      <td>12733</td>\n",
       "      <td>0.0</td>\n",
       "      <td>0.0</td>\n",
       "      <td>0.0</td>\n",
       "      <td>0.0</td>\n",
       "      <td>9</td>\n",
       "      <td>NaN</td>\n",
       "    </tr>\n",
       "    <tr>\n",
       "      <th>6734447</th>\n",
       "      <td>33</td>\n",
       "      <td>36</td>\n",
       "      <td>15925</td>\n",
       "      <td>0.0</td>\n",
       "      <td>0.0</td>\n",
       "      <td>0.0</td>\n",
       "      <td>0.0</td>\n",
       "      <td>9</td>\n",
       "      <td>NaN</td>\n",
       "    </tr>\n",
       "  </tbody>\n",
       "</table>\n",
       "</div>"
      ],
      "text/plain": [
       "         date_block_num  shop_id  item_id  item_cnt_month  item_cnt_mean  \\\n",
       "6734443              33       36     9103             0.0            0.0   \n",
       "6734444              33       36     9107             0.0            0.0   \n",
       "6734445              33       36    10204             0.0            0.0   \n",
       "6734446              33       36    12733             0.0            0.0   \n",
       "6734447              33       36    15925             0.0            0.0   \n",
       "\n",
       "         item_cnt_month_lag_1  item_cnt_mean_lag_1  month  target  \n",
       "6734443                   0.0                  0.0      9     NaN  \n",
       "6734444                   0.0                  0.0      9     NaN  \n",
       "6734445                   0.0                  0.0      9     NaN  \n",
       "6734446                   0.0                  0.0      9     NaN  \n",
       "6734447                   0.0                  0.0      9     NaN  "
      ]
     },
     "execution_count": 50,
     "metadata": {},
     "output_type": "execute_result"
    }
   ],
   "source": [
    "train_lk['target'] = train_lk.sort_values('date_block_num').groupby(['shop_id', 'item_id'])['item_cnt_month'].shift(-1)\n",
    "train_lk.tail()"
   ]
  },
  {
   "cell_type": "markdown",
   "metadata": {},
   "source": [
    "### Train, val, test splitting"
   ]
  },
  {
   "cell_type": "code",
   "execution_count": 51,
   "metadata": {},
   "outputs": [],
   "source": [
    "train_cols = ['shop_id', 'item_id', 'item_cnt_month', 'item_cnt_mean', 'item_cnt_month_lag_1', 'item_cnt_mean_lag_1', 'month']\n",
    "label_col = 'target'\n",
    "\n",
    "df_train = train_lk[(train_lk.date_block_num > 0) & (train_lk.date_block_num < 30)]\n",
    "df_val = train_lk[(train_lk.date_block_num >=30) & (train_lk.date_block_num <= 32)]\n",
    "\n",
    "\n",
    "x_train, y_train = df_train[train_cols], df_train[label_col]\n",
    "x_val, y_val = df_val[train_cols], df_val[label_col]"
   ]
  },
  {
   "cell_type": "markdown",
   "metadata": {},
   "source": [
    "### Fill NAs in Test with zeros"
   ]
  },
  {
   "cell_type": "code",
   "execution_count": 52,
   "metadata": {},
   "outputs": [],
   "source": [
    "df_test = pd.merge(test, train_lk[train_lk.date_block_num == 33], how='left', on=['shop_id', 'item_id'])\\\n",
    "    .drop('target', axis=1)\n",
    "\n",
    "x_test = df_test[train_cols]"
   ]
  },
  {
   "cell_type": "code",
   "execution_count": 53,
   "metadata": {},
   "outputs": [
    {
     "name": "stderr",
     "output_type": "stream",
     "text": [
      "/anaconda3/lib/python3.6/site-packages/pandas/core/frame.py:3787: SettingWithCopyWarning: \n",
      "A value is trying to be set on a copy of a slice from a DataFrame\n",
      "\n",
      "See the caveats in the documentation: http://pandas.pydata.org/pandas-docs/stable/indexing.html#indexing-view-versus-copy\n",
      "  downcast=downcast, **kwargs)\n"
     ]
    }
   ],
   "source": [
    "x_test.fillna(0, inplace=True)"
   ]
  },
  {
   "cell_type": "code",
   "execution_count": 54,
   "metadata": {},
   "outputs": [
    {
     "data": {
      "text/plain": [
       "shop_id                 0\n",
       "item_id                 0\n",
       "item_cnt_month          0\n",
       "item_cnt_mean           0\n",
       "item_cnt_month_lag_1    0\n",
       "item_cnt_mean_lag_1     0\n",
       "month                   0\n",
       "dtype: int64"
      ]
     },
     "execution_count": 54,
     "metadata": {},
     "output_type": "execute_result"
    }
   ],
   "source": [
    "x_test.isnull().sum()"
   ]
  },
  {
   "cell_type": "markdown",
   "metadata": {},
   "source": [
    "### Impute features for those items that does not appear in train"
   ]
  },
  {
   "cell_type": "code",
   "execution_count": 221,
   "metadata": {},
   "outputs": [
    {
     "ename": "AssertionError",
     "evalue": "",
     "output_type": "error",
     "traceback": [
      "\u001b[0;31m---------------------------------------------------------------------------\u001b[0m",
      "\u001b[0;31mAssertionError\u001b[0m                            Traceback (most recent call last)",
      "\u001b[0;32m<ipython-input-221-42a212aab551>\u001b[0m in \u001b[0;36m<module>\u001b[0;34m()\u001b[0m\n\u001b[1;32m      3\u001b[0m \u001b[0;32massert\u001b[0m \u001b[0mx_val\u001b[0m\u001b[0;34m.\u001b[0m\u001b[0misnull\u001b[0m\u001b[0;34m(\u001b[0m\u001b[0;34m)\u001b[0m\u001b[0;34m.\u001b[0m\u001b[0many\u001b[0m\u001b[0;34m(\u001b[0m\u001b[0;34m)\u001b[0m\u001b[0;34m.\u001b[0m\u001b[0many\u001b[0m\u001b[0;34m(\u001b[0m\u001b[0;34m)\u001b[0m \u001b[0;34m==\u001b[0m \u001b[0;32mFalse\u001b[0m\u001b[0;34m\u001b[0m\u001b[0m\n\u001b[1;32m      4\u001b[0m \u001b[0;32massert\u001b[0m \u001b[0my_val\u001b[0m\u001b[0;34m.\u001b[0m\u001b[0misnull\u001b[0m\u001b[0;34m(\u001b[0m\u001b[0;34m)\u001b[0m\u001b[0;34m.\u001b[0m\u001b[0many\u001b[0m\u001b[0;34m(\u001b[0m\u001b[0;34m)\u001b[0m\u001b[0;34m.\u001b[0m\u001b[0many\u001b[0m\u001b[0;34m(\u001b[0m\u001b[0;34m)\u001b[0m \u001b[0;34m==\u001b[0m \u001b[0;32mFalse\u001b[0m\u001b[0;34m\u001b[0m\u001b[0m\n\u001b[0;32m----> 5\u001b[0;31m \u001b[0;32massert\u001b[0m \u001b[0mx_test\u001b[0m\u001b[0;34m.\u001b[0m\u001b[0misnull\u001b[0m\u001b[0;34m(\u001b[0m\u001b[0;34m)\u001b[0m\u001b[0;34m.\u001b[0m\u001b[0many\u001b[0m\u001b[0;34m(\u001b[0m\u001b[0;34m)\u001b[0m\u001b[0;34m.\u001b[0m\u001b[0many\u001b[0m\u001b[0;34m(\u001b[0m\u001b[0;34m)\u001b[0m \u001b[0;34m==\u001b[0m \u001b[0;32mFalse\u001b[0m\u001b[0;34m\u001b[0m\u001b[0m\n\u001b[0m",
      "\u001b[0;31mAssertionError\u001b[0m: "
     ]
    }
   ],
   "source": [
    "assert x_train.isnull().any().any() == False\n",
    "assert y_train.isnull().any().any() == False\n",
    "assert x_val.isnull().any().any() == False\n",
    "assert y_val.isnull().any().any() == False\n",
    "assert x_test.isnull().any().any() == False"
   ]
  },
  {
   "cell_type": "markdown",
   "metadata": {},
   "source": [
    "### Use previous data as a baseline"
   ]
  },
  {
   "cell_type": "code",
   "execution_count": 9,
   "metadata": {},
   "outputs": [],
   "source": [
    "lagged_df = train[(train['year'] == '2015') & (train['month'] == '10')]"
   ]
  },
  {
   "cell_type": "code",
   "execution_count": 10,
   "metadata": {},
   "outputs": [],
   "source": [
    "lagged_gb = lagged_df.groupby(['shop_id', 'item_id', 'month']).item_cnt_day.sum().reset_index()\n",
    "lagged_gb.rename({'item_cnt_day': 'item_cnt_month'}, axis=1, inplace=True)"
   ]
  },
  {
   "cell_type": "code",
   "execution_count": 11,
   "metadata": {},
   "outputs": [
    {
     "data": {
      "image/png": "[encoded data removed]",
      "text/plain": [
       "<Figure size 432x288 with 1 Axes>"
      ]
     },
     "metadata": {},
     "output_type": "display_data"
    }
   ],
   "source": [
    "plt.hist(lagged_gb['item_cnt_month'], bins=50, log=True);"
   ]
  },
  {
   "cell_type": "markdown",
   "metadata": {},
   "source": [
    "### Check outliers"
   ]
  },
  {
   "cell_type": "code",
   "execution_count": 12,
   "metadata": {},
   "outputs": [
    {
     "name": "stdout",
     "output_type": "stream",
     "text": [
      "precentile:  17.0\n",
      "max:  2253.0\n"
     ]
    }
   ],
   "source": [
    "percentile = 99\n",
    "print('precentile: ', np.percentile(lagged_gb.item_cnt_month, percentile))\n",
    "print('max: ', lagged_gb.item_cnt_month.max())"
   ]
  },
  {
   "cell_type": "markdown",
   "metadata": {},
   "source": [
    "### Fill NA wiht zero and cap at 20"
   ]
  },
  {
   "cell_type": "code",
   "execution_count": 13,
   "metadata": {},
   "outputs": [],
   "source": [
    "pred = pd.merge(test, lagged_gb, on=['shop_id', 'item_id'], how='left')\n",
    "pred = pred.drop('month', axis=1)\n",
    "pred['item_cnt_month'].fillna(value=0, inplace=True)\n",
    "pred['item_cnt_month'] = pred['item_cnt_month'].map(lambda x: 20 if x > 20 else x)"
   ]
  },
  {
   "cell_type": "code",
   "execution_count": 14,
   "metadata": {},
   "outputs": [],
   "source": [
    "save_pred_to_csv(pred, 'baseline')"
   ]
  },
  {
   "cell_type": "markdown",
   "metadata": {},
   "source": [
    "### Add lagged shop total sell"
   ]
  },
  {
   "cell_type": "code",
   "execution_count": 64,
   "metadata": {},
   "outputs": [
    {
     "data": {
      "text/html": [
       "<div>\n",
       "<style scoped>\n",
       "    .dataframe tbody tr th:only-of-type {\n",
       "        vertical-align: middle;\n",
       "    }\n",
       "\n",
       "    .dataframe tbody tr th {\n",
       "        vertical-align: top;\n",
       "    }\n",
       "\n",
       "    .dataframe thead th {\n",
       "        text-align: right;\n",
       "    }\n",
       "</style>\n",
       "<table border=\"1\" class=\"dataframe\">\n",
       "  <thead>\n",
       "    <tr style=\"text-align: right;\">\n",
       "      <th></th>\n",
       "      <th>date</th>\n",
       "      <th>date_block_num</th>\n",
       "      <th>shop_id</th>\n",
       "      <th>item_id</th>\n",
       "      <th>item_price</th>\n",
       "      <th>item_cnt_day</th>\n",
       "    </tr>\n",
       "  </thead>\n",
       "  <tbody>\n",
       "    <tr>\n",
       "      <th>0</th>\n",
       "      <td>02.01.2013</td>\n",
       "      <td>0</td>\n",
       "      <td>59</td>\n",
       "      <td>22154</td>\n",
       "      <td>999.00</td>\n",
       "      <td>1.0</td>\n",
       "    </tr>\n",
       "    <tr>\n",
       "      <th>1</th>\n",
       "      <td>03.01.2013</td>\n",
       "      <td>0</td>\n",
       "      <td>25</td>\n",
       "      <td>2552</td>\n",
       "      <td>899.00</td>\n",
       "      <td>1.0</td>\n",
       "    </tr>\n",
       "    <tr>\n",
       "      <th>2</th>\n",
       "      <td>05.01.2013</td>\n",
       "      <td>0</td>\n",
       "      <td>25</td>\n",
       "      <td>2552</td>\n",
       "      <td>899.00</td>\n",
       "      <td>-1.0</td>\n",
       "    </tr>\n",
       "    <tr>\n",
       "      <th>3</th>\n",
       "      <td>06.01.2013</td>\n",
       "      <td>0</td>\n",
       "      <td>25</td>\n",
       "      <td>2554</td>\n",
       "      <td>1709.05</td>\n",
       "      <td>1.0</td>\n",
       "    </tr>\n",
       "  </tbody>\n",
       "</table>\n",
       "</div>"
      ],
      "text/plain": [
       "         date  date_block_num  shop_id  item_id  item_price  item_cnt_day\n",
       "0  02.01.2013               0       59    22154      999.00           1.0\n",
       "1  03.01.2013               0       25     2552      899.00           1.0\n",
       "2  05.01.2013               0       25     2552      899.00          -1.0\n",
       "3  06.01.2013               0       25     2554     1709.05           1.0"
      ]
     },
     "execution_count": 64,
     "metadata": {},
     "output_type": "execute_result"
    }
   ],
   "source": [
    "train.head(4)"
   ]
  },
  {
   "cell_type": "code",
   "execution_count": 65,
   "metadata": {},
   "outputs": [
    {
     "data": {
      "text/plain": [
       "(2935849, 6)"
      ]
     },
     "execution_count": 65,
     "metadata": {},
     "output_type": "execute_result"
    }
   ],
   "source": [
    "train.shape"
   ]
  },
  {
   "cell_type": "code",
   "execution_count": 66,
   "metadata": {},
   "outputs": [
    {
     "name": "stdout",
     "output_type": "stream",
     "text": [
      "min date_block_num:  0\n",
      "max date_block_num:  33\n"
     ]
    }
   ],
   "source": [
    "print('min date_block_num: ', train.date_block_num.min())\n",
    "print('max date_block_num: ', train.date_block_num.max())"
   ]
  },
  {
   "cell_type": "code",
   "execution_count": 67,
   "metadata": {},
   "outputs": [],
   "source": [
    "train_copy = train.copy()\n",
    "train_copy = train_copy.groupby(['shop_id', 'item_id', 'date_block_num']).item_cnt_day.count().reset_index()\n",
    "train_copy.rename({'item_cnt_day': 'target'}, axis=1, inplace=True)\n",
    "train_copy['target'] = train_copy['target'].clip(lower=0, upper=20)"
   ]
  },
  {
   "cell_type": "code",
   "execution_count": 68,
   "metadata": {},
   "outputs": [],
   "source": [
    "sum_month = train_copy.groupby(['shop_id', 'date_block_num']).target.sum().reset_index()\n",
    "sum_month['date_block_num'] = sum_month['date_block_num'] + 1\n",
    "sum_month.rename({'target':'previous_total_cnt'}, axis=1, inplace=True)"
   ]
  },
  {
   "cell_type": "code",
   "execution_count": 69,
   "metadata": {},
   "outputs": [
    {
     "data": {
      "text/html": [
       "<div>\n",
       "<style scoped>\n",
       "    .dataframe tbody tr th:only-of-type {\n",
       "        vertical-align: middle;\n",
       "    }\n",
       "\n",
       "    .dataframe tbody tr th {\n",
       "        vertical-align: top;\n",
       "    }\n",
       "\n",
       "    .dataframe thead th {\n",
       "        text-align: right;\n",
       "    }\n",
       "</style>\n",
       "<table border=\"1\" class=\"dataframe\">\n",
       "  <thead>\n",
       "    <tr style=\"text-align: right;\">\n",
       "      <th></th>\n",
       "      <th>shop_id</th>\n",
       "      <th>item_id</th>\n",
       "      <th>date_block_num</th>\n",
       "      <th>target</th>\n",
       "      <th>previous_total_cnt</th>\n",
       "    </tr>\n",
       "  </thead>\n",
       "  <tbody>\n",
       "    <tr>\n",
       "      <th>0</th>\n",
       "      <td>0</td>\n",
       "      <td>30</td>\n",
       "      <td>1</td>\n",
       "      <td>9</td>\n",
       "      <td>4791.0</td>\n",
       "    </tr>\n",
       "  </tbody>\n",
       "</table>\n",
       "</div>"
      ],
      "text/plain": [
       "   shop_id  item_id  date_block_num  target  previous_total_cnt\n",
       "0        0       30               1       9              4791.0"
      ]
     },
     "execution_count": 69,
     "metadata": {},
     "output_type": "execute_result"
    }
   ],
   "source": [
    "train_copy = pd.merge(train_copy, sum_month, how='left', on=['date_block_num', 'shop_id'])\n",
    "train_copy.head(1)"
   ]
  },
  {
   "cell_type": "code",
   "execution_count": 70,
   "metadata": {},
   "outputs": [
    {
     "name": "stdout",
     "output_type": "stream",
     "text": [
      "min date_block_num:  0\n",
      "max date_block_num:  33\n"
     ]
    }
   ],
   "source": [
    "print('min date_block_num: ', train_copy.date_block_num.min())\n",
    "print('max date_block_num: ', train_copy.date_block_num.max())"
   ]
  },
  {
   "cell_type": "code",
   "execution_count": null,
   "metadata": {},
   "outputs": [],
   "source": []
  },
  {
   "cell_type": "code",
   "execution_count": 71,
   "metadata": {},
   "outputs": [
    {
     "name": "stdout",
     "output_type": "stream",
     "text": [
      "num of rows in df_train before removing nan:  1577593\n",
      "num of rows in df_train after removing nan:  1504894\n",
      "num of rows in df_val before removing nan:  31531\n",
      "nub of rows in df_val after removing nan:  30496\n"
     ]
    }
   ],
   "source": [
    "df_train = train_copy[train_copy['date_block_num'] < 33]\n",
    "df_val = train_copy[train_copy['date_block_num'] == 33]\n",
    "\n",
    "print('num of rows in df_train before removing nan: ', df_train.shape[0])\n",
    "df_train = df_train.dropna()\n",
    "print('num of rows in df_train after removing nan: ', df_train.shape[0])\n",
    "\n",
    "print('num of rows in df_val before removing nan: ', df_val.shape[0])\n",
    "df_val = df_val.dropna()\n",
    "print('nub of rows in df_val after removing nan: ', df_val.shape[0])"
   ]
  },
  {
   "cell_type": "code",
   "execution_count": 72,
   "metadata": {},
   "outputs": [
    {
     "data": {
      "text/plain": [
       "ID                    False\n",
       "shop_id               False\n",
       "item_id               False\n",
       "previous_total_cnt    False\n",
       "dtype: bool"
      ]
     },
     "execution_count": 72,
     "metadata": {},
     "output_type": "execute_result"
    }
   ],
   "source": [
    "train_cols = ['shop_id', 'item_id', 'previous_total_cnt']\n",
    "x_train = df_train[train_cols]\n",
    "y_train = df_train['target']\n",
    "\n",
    "x_val = df_val[train_cols]\n",
    "y_val = df_val['target']\n",
    "\n",
    "test_pre_cnt = sum_month[sum_month.date_block_num==34][['shop_id', 'previous_total_cnt']]\n",
    "test = pd.merge(test, test_pre_cnt, on='shop_id', how='left')\n",
    "test['previous_total_cnt'] = test['previous_total_cnt'].fillna(test_pre_cnt.previous_total_cnt.mean())\n",
    "test.isnull().any()"
   ]
  },
  {
   "cell_type": "code",
   "execution_count": 73,
   "metadata": {},
   "outputs": [],
   "source": [
    "assert test.shape[0] == 214200"
   ]
  },
  {
   "cell_type": "markdown",
   "metadata": {},
   "source": [
    "### Gradient boosting tree"
   ]
  },
  {
   "cell_type": "code",
   "execution_count": 27,
   "metadata": {},
   "outputs": [],
   "source": [
    "from sklearn.ensemble import GradientBoostingRegressor, RandomForestClassifier\n",
    "from sklearn.metrics import mean_squared_error"
   ]
  },
  {
   "cell_type": "code",
   "execution_count": 55,
   "metadata": {},
   "outputs": [
    {
     "data": {
      "text/plain": [
       "GradientBoostingRegressor(alpha=0.9, criterion='friedman_mse', init=None,\n",
       "             learning_rate=0.1, loss='ls', max_depth=3, max_features=None,\n",
       "             max_leaf_nodes=None, min_impurity_decrease=0.0,\n",
       "             min_impurity_split=None, min_samples_leaf=1,\n",
       "             min_samples_split=2, min_weight_fraction_leaf=0.0,\n",
       "             n_estimators=100, presort='auto', random_state=41,\n",
       "             subsample=1.0, verbose=0, warm_start=False)"
      ]
     },
     "execution_count": 55,
     "metadata": {},
     "output_type": "execute_result"
    }
   ],
   "source": [
    "params = {\n",
    "    'learning_rate': 0.1,\n",
    "    'max_depth': 3,\n",
    "    'n_estimators': 100,\n",
    "    'subsample': 1.0,\n",
    "    'random_state': 41\n",
    "}\n",
    "\n",
    "\n",
    "gbr = GradientBoostingRegressor(**params)\n",
    "gbr.fit(x_train, y_train)"
   ]
  },
  {
   "cell_type": "code",
   "execution_count": 56,
   "metadata": {},
   "outputs": [
    {
     "name": "stdout",
     "output_type": "stream",
     "text": [
      "train RMSE:  0.8136265756274446\n",
      "validation RMSE:  0.9271415425647744\n"
     ]
    }
   ],
   "source": [
    "y_pred_train = gbr.predict(x_train)\n",
    "print('train RMSE: ', np.sqrt(mean_squared_error(y_train, y_pred_train)))\n",
    "y_pred_val = gbr.predict(x_val)\n",
    "print('validation RMSE: ', np.sqrt(mean_squared_error(y_val, y_pred_val)))"
   ]
  },
  {
   "cell_type": "code",
   "execution_count": 68,
   "metadata": {},
   "outputs": [],
   "source": [
    "y_pred_test = gbr.predict(x_test)\n",
    "pred_test = test.copy()\n",
    "pred_test['item_cnt_month'] = y_pred_test\n",
    "save_pred_to_csv(pred_test, msg='one_month_lag-zero_fill')"
   ]
  },
  {
   "cell_type": "markdown",
   "metadata": {},
   "source": [
    "with outlier\n",
    "train RMSE:  1.8482461723357235\n",
    "validation RMSE:  3.116295303446713"
   ]
  }
 ],
 "metadata": {
  "kernelspec": {
   "display_name": "Python 3",
   "language": "python",
   "name": "python3"
  },
  "language_info": {
   "codemirror_mode": {
    "name": "ipython",
    "version": 3
   },
   "file_extension": ".py",
   "mimetype": "text/x-python",
   "name": "python",
   "nbconvert_exporter": "python",
   "pygments_lexer": "ipython3",
   "version": "3.6.5"
  }
 },
 "nbformat": 4,
 "nbformat_minor": 2
}
