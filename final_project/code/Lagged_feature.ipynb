{
 "cells": [
  {
   "cell_type": "code",
   "execution_count": 1,
   "metadata": {},
   "outputs": [],
   "source": [
    "import pandas as pd\n",
    "from matplotlib import pyplot as plt\n",
    "import os\n",
    "import numpy as np\n",
    "from matplotlib import pyplot as plt\n",
    "from datetime import datetime\n",
    "from itertools import product\n",
    "import time\n",
    "from itertools import product, combinations"
   ]
  },
  {
   "cell_type": "markdown",
   "metadata": {},
   "source": [
    "### utility func"
   ]
  },
  {
   "cell_type": "code",
   "execution_count": 2,
   "metadata": {},
   "outputs": [],
   "source": [
    "def save_pred_to_csv(pred, msg='', dir_name='../predictions/'):\n",
    "    \"\"\"\n",
    "    save prediction results to csv.\n",
    "    \n",
    "    Add time as idfier. Other info can be passed to msg.\n",
    "    \n",
    "    Args:\n",
    "        pred(DataFrame): prediction result.\n",
    "        \n",
    "        msg(str): extra message want to include in file_name\n",
    "        \n",
    "        dir(name): directory name\n",
    "        \n",
    "    Return None\n",
    "    \"\"\"\n",
    "    try:\n",
    "        pred = pred[['ID', 'item_cnt_month']]\n",
    "    except:\n",
    "        raise Exception('ID or item_cnt_month column not found')\n",
    "    \n",
    "    str_datetime = datetime.now().strftime(\"%m%d_%H_%M\")\n",
    "    full_name = dir_name + msg + '_' + str_datetime + '.csv'\n",
    "    \n",
    "    pred.to_csv(full_name, index=False)\n",
    "    "
   ]
  },
  {
   "cell_type": "code",
   "execution_count": 3,
   "metadata": {},
   "outputs": [],
   "source": [
    "data_dir = os.path.dirname(os.getcwd()) + '/data/'\n",
    "files = os.listdir(data_dir)\n",
    "\n",
    "train = pd.read_csv(data_dir + files[1])\n",
    "test = pd.read_csv(data_dir + files[3])\n",
    "\n",
    "shops = pd.read_csv(data_dir + files[2])\n",
    "item_cat = pd.read_csv(data_dir + files[4])\n",
    "item = pd.read_csv(data_dir + files[5])\n",
    "sample_sub = pd.read_csv(data_dir + files[6])"
   ]
  },
  {
   "cell_type": "markdown",
   "metadata": {},
   "source": [
    "### Data cleaning"
   ]
  },
  {
   "cell_type": "code",
   "execution_count": 4,
   "metadata": {},
   "outputs": [],
   "source": [
    "# from https://www.kaggle.com/dlarionov/feature-engineering-xgboost\n",
    "\n",
    "##### fix shop ids (duplicate shops)#####\n",
    "\n",
    "# Якутск Орджоникидзе, 56\n",
    "train.loc[train.shop_id == 0, 'shop_id'] = 57\n",
    "test.loc[test.shop_id == 0, 'shop_id'] = 57\n",
    "# Якутск ТЦ \"Центральный\"\n",
    "train.loc[train.shop_id == 1, 'shop_id'] = 58\n",
    "test.loc[test.shop_id == 1, 'shop_id'] = 58\n",
    "# Жуковский ул. Чкалова 39м²\n",
    "train.loc[train.shop_id == 10, 'shop_id'] = 11\n",
    "test.loc[test.shop_id == 10, 'shop_id'] = 11\n",
    "\n",
    "##### remove price and daily connt outliers ####\n",
    "\n",
    "train = train[train.item_price<100000]\n",
    "train = train[train.item_cnt_day<1001]\n",
    "\n",
    "#### fill pirce below zero with meadian ####\n",
    "\n",
    "median = train[(train.shop_id==32)&(train.item_id==2973)&(train.date_block_num==4)&(train.item_price>0)].item_price.median()\n",
    "train.loc[train.item_price<0, 'item_price'] = median"
   ]
  },
  {
   "cell_type": "markdown",
   "metadata": {},
   "source": [
    "### select those shop and items that appears in test. (think of ways to utilize those unpresanted later)"
   ]
  },
  {
   "cell_type": "code",
   "execution_count": 5,
   "metadata": {},
   "outputs": [
    {
     "name": "stdout",
     "output_type": "stream",
     "text": [
      "train_lk shape:  (1227789, 6)\n"
     ]
    }
   ],
   "source": [
    "train_lk = train[train.shop_id.isin(test.shop_id.unique())]\n",
    "train_lk = train_lk[train_lk.item_id.isin(test.item_id.unique())]\n",
    "print('train_lk shape: ', train_lk.shape)"
   ]
  },
  {
   "cell_type": "markdown",
   "metadata": {},
   "source": [
    "### Add revenue"
   ]
  },
  {
   "cell_type": "code",
   "execution_count": 6,
   "metadata": {},
   "outputs": [],
   "source": [
    "train_lk['revenue'] = train_lk['item_price'] * train_lk['item_cnt_day']"
   ]
  },
  {
   "cell_type": "markdown",
   "metadata": {},
   "source": [
    "### generate month sum and month mean"
   ]
  },
  {
   "cell_type": "code",
   "execution_count": 7,
   "metadata": {},
   "outputs": [
    {
     "name": "stdout",
     "output_type": "stream",
     "text": [
      "item_cnt_month 99% quantile:  21.0\n",
      "item_cnt_mean 99% quantile:  2.5\n"
     ]
    }
   ],
   "source": [
    "train_lk_gp = train_lk.groupby(['date_block_num', 'shop_id', 'item_id'], as_index=False)\n",
    "train_lk = train_lk_gp.agg({'item_cnt_day': ['sum', 'mean'], 'item_price': ['mean'], 'revenue': ['sum', 'mean']})\n",
    "train_lk.columns = ['date_block_num', 'shop_id', 'item_id', 'item_cnt_month', 'item_cnt_mean', 'item_price_mean',\n",
    "                   'revenue_sum', 'revenue_mean']\n",
    "\n",
    "cnt_bound = train_lk.item_cnt_month.quantile(0.99)\n",
    "mean_bound = train_lk.item_cnt_mean.quantile(0.99)\n",
    "print('item_cnt_month 99% quantile: ', cnt_bound)\n",
    "print('item_cnt_mean 99% quantile: ', mean_bound)\n",
    "# clip item_cnt_month between [0, 21] and item_cnt_mean between [0, 2.5]\n",
    "train_lk['item_cnt_month'] = train_lk['item_cnt_month'].clip(lower=0, upper=cnt_bound)\n",
    "train_lk['item_cnt_mean'] = train_lk['item_cnt_mean'].clip(lower=0, upper=mean_bound)"
   ]
  },
  {
   "cell_type": "markdown",
   "metadata": {},
   "source": [
    "### Add item category"
   ]
  },
  {
   "cell_type": "code",
   "execution_count": 8,
   "metadata": {},
   "outputs": [],
   "source": [
    "train_lk = pd.merge(train_lk, item[['item_id', 'item_category_id']], how='left', on='item_id')"
   ]
  },
  {
   "cell_type": "code",
   "execution_count": 9,
   "metadata": {},
   "outputs": [
    {
     "data": {
      "text/html": [
       "<div>\n",
       "<style scoped>\n",
       "    .dataframe tbody tr th:only-of-type {\n",
       "        vertical-align: middle;\n",
       "    }\n",
       "\n",
       "    .dataframe tbody tr th {\n",
       "        vertical-align: top;\n",
       "    }\n",
       "\n",
       "    .dataframe thead th {\n",
       "        text-align: right;\n",
       "    }\n",
       "</style>\n",
       "<table border=\"1\" class=\"dataframe\">\n",
       "  <thead>\n",
       "    <tr style=\"text-align: right;\">\n",
       "      <th></th>\n",
       "      <th>date_block_num</th>\n",
       "      <th>shop_id</th>\n",
       "      <th>item_id</th>\n",
       "      <th>item_cnt_month</th>\n",
       "      <th>item_cnt_mean</th>\n",
       "      <th>item_price_mean</th>\n",
       "      <th>revenue_sum</th>\n",
       "      <th>revenue_mean</th>\n",
       "      <th>item_category_id</th>\n",
       "    </tr>\n",
       "  </thead>\n",
       "  <tbody>\n",
       "    <tr>\n",
       "      <th>0</th>\n",
       "      <td>0</td>\n",
       "      <td>2</td>\n",
       "      <td>33</td>\n",
       "      <td>1.0</td>\n",
       "      <td>1.0</td>\n",
       "      <td>499.0</td>\n",
       "      <td>499.0</td>\n",
       "      <td>499.0</td>\n",
       "      <td>37</td>\n",
       "    </tr>\n",
       "    <tr>\n",
       "      <th>1</th>\n",
       "      <td>0</td>\n",
       "      <td>2</td>\n",
       "      <td>482</td>\n",
       "      <td>1.0</td>\n",
       "      <td>1.0</td>\n",
       "      <td>3300.0</td>\n",
       "      <td>3300.0</td>\n",
       "      <td>3300.0</td>\n",
       "      <td>73</td>\n",
       "    </tr>\n",
       "    <tr>\n",
       "      <th>2</th>\n",
       "      <td>0</td>\n",
       "      <td>2</td>\n",
       "      <td>491</td>\n",
       "      <td>1.0</td>\n",
       "      <td>1.0</td>\n",
       "      <td>600.0</td>\n",
       "      <td>600.0</td>\n",
       "      <td>600.0</td>\n",
       "      <td>73</td>\n",
       "    </tr>\n",
       "    <tr>\n",
       "      <th>3</th>\n",
       "      <td>0</td>\n",
       "      <td>2</td>\n",
       "      <td>839</td>\n",
       "      <td>1.0</td>\n",
       "      <td>1.0</td>\n",
       "      <td>3300.0</td>\n",
       "      <td>3300.0</td>\n",
       "      <td>3300.0</td>\n",
       "      <td>73</td>\n",
       "    </tr>\n",
       "    <tr>\n",
       "      <th>4</th>\n",
       "      <td>0</td>\n",
       "      <td>2</td>\n",
       "      <td>1007</td>\n",
       "      <td>3.0</td>\n",
       "      <td>1.0</td>\n",
       "      <td>449.0</td>\n",
       "      <td>1347.0</td>\n",
       "      <td>449.0</td>\n",
       "      <td>67</td>\n",
       "    </tr>\n",
       "  </tbody>\n",
       "</table>\n",
       "</div>"
      ],
      "text/plain": [
       "   date_block_num  shop_id  item_id  item_cnt_month  item_cnt_mean  \\\n",
       "0               0        2       33             1.0            1.0   \n",
       "1               0        2      482             1.0            1.0   \n",
       "2               0        2      491             1.0            1.0   \n",
       "3               0        2      839             1.0            1.0   \n",
       "4               0        2     1007             3.0            1.0   \n",
       "\n",
       "   item_price_mean  revenue_sum  revenue_mean  item_category_id  \n",
       "0            499.0        499.0         499.0                37  \n",
       "1           3300.0       3300.0        3300.0                73  \n",
       "2            600.0        600.0         600.0                73  \n",
       "3           3300.0       3300.0        3300.0                73  \n",
       "4            449.0       1347.0         449.0                67  "
      ]
     },
     "execution_count": 9,
     "metadata": {},
     "output_type": "execute_result"
    }
   ],
   "source": [
    "train_lk.head(5)"
   ]
  },
  {
   "cell_type": "markdown",
   "metadata": {},
   "source": [
    "### Generate cartisian products of date_block_num, shop_id, item_id"
   ]
  },
  {
   "cell_type": "code",
   "execution_count": 10,
   "metadata": {},
   "outputs": [
    {
     "name": "stdout",
     "output_type": "stream",
     "text": [
      "train_cartisian shape:  (6734448, 3)\n"
     ]
    }
   ],
   "source": [
    "car_prod = np.array(list(product(*[train_lk.date_block_num.unique(), train_lk.shop_id.unique(), train_lk.item_id.unique()])))\n",
    "train_car = pd.DataFrame(car_prod, columns=['date_block_num', 'shop_id', 'item_id'])\n",
    "print('train_cartisian shape: ', train_car.shape)\n",
    "\n",
    "train_lk = pd.merge(train_car, train_lk, how='left', on=['date_block_num', 'shop_id', 'item_id'])\n",
    "train_lk.fillna(0, inplace=True)"
   ]
  },
  {
   "cell_type": "code",
   "execution_count": 11,
   "metadata": {},
   "outputs": [
    {
     "data": {
      "text/html": [
       "<div>\n",
       "<style scoped>\n",
       "    .dataframe tbody tr th:only-of-type {\n",
       "        vertical-align: middle;\n",
       "    }\n",
       "\n",
       "    .dataframe tbody tr th {\n",
       "        vertical-align: top;\n",
       "    }\n",
       "\n",
       "    .dataframe thead th {\n",
       "        text-align: right;\n",
       "    }\n",
       "</style>\n",
       "<table border=\"1\" class=\"dataframe\">\n",
       "  <thead>\n",
       "    <tr style=\"text-align: right;\">\n",
       "      <th></th>\n",
       "      <th>date_block_num</th>\n",
       "      <th>shop_id</th>\n",
       "      <th>item_id</th>\n",
       "      <th>item_cnt_month</th>\n",
       "      <th>item_cnt_mean</th>\n",
       "      <th>item_price_mean</th>\n",
       "      <th>revenue_sum</th>\n",
       "      <th>revenue_mean</th>\n",
       "      <th>item_category_id</th>\n",
       "    </tr>\n",
       "  </thead>\n",
       "  <tbody>\n",
       "    <tr>\n",
       "      <th>0</th>\n",
       "      <td>0</td>\n",
       "      <td>2</td>\n",
       "      <td>33</td>\n",
       "      <td>1.0</td>\n",
       "      <td>1.0</td>\n",
       "      <td>499.0</td>\n",
       "      <td>499.0</td>\n",
       "      <td>499.0</td>\n",
       "      <td>37.0</td>\n",
       "    </tr>\n",
       "    <tr>\n",
       "      <th>1</th>\n",
       "      <td>0</td>\n",
       "      <td>2</td>\n",
       "      <td>482</td>\n",
       "      <td>1.0</td>\n",
       "      <td>1.0</td>\n",
       "      <td>3300.0</td>\n",
       "      <td>3300.0</td>\n",
       "      <td>3300.0</td>\n",
       "      <td>73.0</td>\n",
       "    </tr>\n",
       "  </tbody>\n",
       "</table>\n",
       "</div>"
      ],
      "text/plain": [
       "   date_block_num  shop_id  item_id  item_cnt_month  item_cnt_mean  \\\n",
       "0               0        2       33             1.0            1.0   \n",
       "1               0        2      482             1.0            1.0   \n",
       "\n",
       "   item_price_mean  revenue_sum  revenue_mean  item_category_id  \n",
       "0            499.0        499.0         499.0              37.0  \n",
       "1           3300.0       3300.0        3300.0              73.0  "
      ]
     },
     "execution_count": 11,
     "metadata": {},
     "output_type": "execute_result"
    }
   ],
   "source": [
    "train_lk.head(2)"
   ]
  },
  {
   "cell_type": "markdown",
   "metadata": {},
   "source": [
    "### Add lag features"
   ]
  },
  {
   "cell_type": "code",
   "execution_count": 12,
   "metadata": {},
   "outputs": [
    {
     "name": "stdout",
     "output_type": "stream",
     "text": [
      "CPU times: user 20 s, sys: 6.8 s, total: 26.8 s\n",
      "Wall time: 15.6 s\n"
     ]
    }
   ],
   "source": [
    "%%time\n",
    "lags = [1, 2, 3]\n",
    "lag_cols = ['item_cnt_month', 'item_cnt_mean']\n",
    "\n",
    "for col in lag_cols:\n",
    "    for lag in lags:\n",
    "        train_lk[col +'_lag_' + str(lag)] = train_lk.sort_values('date_block_num')\\\n",
    "        .groupby(['shop_id', 'item_id'])[col].shift(lag)"
   ]
  },
  {
   "cell_type": "code",
   "execution_count": 13,
   "metadata": {},
   "outputs": [
    {
     "name": "stdout",
     "output_type": "stream",
     "text": [
      "CPU times: user 762 µs, sys: 225 µs, total: 987 µs\n",
      "Wall time: 854 µs\n"
     ]
    },
    {
     "data": {
      "text/html": [
       "<div>\n",
       "<style scoped>\n",
       "    .dataframe tbody tr th:only-of-type {\n",
       "        vertical-align: middle;\n",
       "    }\n",
       "\n",
       "    .dataframe tbody tr th {\n",
       "        vertical-align: top;\n",
       "    }\n",
       "\n",
       "    .dataframe thead th {\n",
       "        text-align: right;\n",
       "    }\n",
       "</style>\n",
       "<table border=\"1\" class=\"dataframe\">\n",
       "  <thead>\n",
       "    <tr style=\"text-align: right;\">\n",
       "      <th></th>\n",
       "      <th>date_block_num</th>\n",
       "      <th>shop_id</th>\n",
       "      <th>item_id</th>\n",
       "      <th>item_cnt_month</th>\n",
       "      <th>item_cnt_mean</th>\n",
       "      <th>item_price_mean</th>\n",
       "      <th>revenue_sum</th>\n",
       "      <th>revenue_mean</th>\n",
       "      <th>item_category_id</th>\n",
       "      <th>item_cnt_month_lag_1</th>\n",
       "      <th>item_cnt_month_lag_2</th>\n",
       "      <th>item_cnt_month_lag_3</th>\n",
       "      <th>item_cnt_mean_lag_1</th>\n",
       "      <th>item_cnt_mean_lag_2</th>\n",
       "      <th>item_cnt_mean_lag_3</th>\n",
       "    </tr>\n",
       "  </thead>\n",
       "  <tbody>\n",
       "    <tr>\n",
       "      <th>6734443</th>\n",
       "      <td>33</td>\n",
       "      <td>36</td>\n",
       "      <td>9103</td>\n",
       "      <td>0.0</td>\n",
       "      <td>0.0</td>\n",
       "      <td>0.0</td>\n",
       "      <td>0.0</td>\n",
       "      <td>0.0</td>\n",
       "      <td>0.0</td>\n",
       "      <td>0.0</td>\n",
       "      <td>0.0</td>\n",
       "      <td>0.0</td>\n",
       "      <td>0.0</td>\n",
       "      <td>0.0</td>\n",
       "      <td>0.0</td>\n",
       "    </tr>\n",
       "    <tr>\n",
       "      <th>6734444</th>\n",
       "      <td>33</td>\n",
       "      <td>36</td>\n",
       "      <td>9107</td>\n",
       "      <td>0.0</td>\n",
       "      <td>0.0</td>\n",
       "      <td>0.0</td>\n",
       "      <td>0.0</td>\n",
       "      <td>0.0</td>\n",
       "      <td>0.0</td>\n",
       "      <td>0.0</td>\n",
       "      <td>0.0</td>\n",
       "      <td>0.0</td>\n",
       "      <td>0.0</td>\n",
       "      <td>0.0</td>\n",
       "      <td>0.0</td>\n",
       "    </tr>\n",
       "    <tr>\n",
       "      <th>6734445</th>\n",
       "      <td>33</td>\n",
       "      <td>36</td>\n",
       "      <td>10204</td>\n",
       "      <td>0.0</td>\n",
       "      <td>0.0</td>\n",
       "      <td>0.0</td>\n",
       "      <td>0.0</td>\n",
       "      <td>0.0</td>\n",
       "      <td>0.0</td>\n",
       "      <td>0.0</td>\n",
       "      <td>0.0</td>\n",
       "      <td>0.0</td>\n",
       "      <td>0.0</td>\n",
       "      <td>0.0</td>\n",
       "      <td>0.0</td>\n",
       "    </tr>\n",
       "    <tr>\n",
       "      <th>6734446</th>\n",
       "      <td>33</td>\n",
       "      <td>36</td>\n",
       "      <td>12733</td>\n",
       "      <td>0.0</td>\n",
       "      <td>0.0</td>\n",
       "      <td>0.0</td>\n",
       "      <td>0.0</td>\n",
       "      <td>0.0</td>\n",
       "      <td>0.0</td>\n",
       "      <td>0.0</td>\n",
       "      <td>0.0</td>\n",
       "      <td>0.0</td>\n",
       "      <td>0.0</td>\n",
       "      <td>0.0</td>\n",
       "      <td>0.0</td>\n",
       "    </tr>\n",
       "    <tr>\n",
       "      <th>6734447</th>\n",
       "      <td>33</td>\n",
       "      <td>36</td>\n",
       "      <td>15925</td>\n",
       "      <td>0.0</td>\n",
       "      <td>0.0</td>\n",
       "      <td>0.0</td>\n",
       "      <td>0.0</td>\n",
       "      <td>0.0</td>\n",
       "      <td>0.0</td>\n",
       "      <td>0.0</td>\n",
       "      <td>0.0</td>\n",
       "      <td>0.0</td>\n",
       "      <td>0.0</td>\n",
       "      <td>0.0</td>\n",
       "      <td>0.0</td>\n",
       "    </tr>\n",
       "  </tbody>\n",
       "</table>\n",
       "</div>"
      ],
      "text/plain": [
       "         date_block_num  shop_id  item_id  item_cnt_month  item_cnt_mean  \\\n",
       "6734443              33       36     9103             0.0            0.0   \n",
       "6734444              33       36     9107             0.0            0.0   \n",
       "6734445              33       36    10204             0.0            0.0   \n",
       "6734446              33       36    12733             0.0            0.0   \n",
       "6734447              33       36    15925             0.0            0.0   \n",
       "\n",
       "         item_price_mean  revenue_sum  revenue_mean  item_category_id  \\\n",
       "6734443              0.0          0.0           0.0               0.0   \n",
       "6734444              0.0          0.0           0.0               0.0   \n",
       "6734445              0.0          0.0           0.0               0.0   \n",
       "6734446              0.0          0.0           0.0               0.0   \n",
       "6734447              0.0          0.0           0.0               0.0   \n",
       "\n",
       "         item_cnt_month_lag_1  item_cnt_month_lag_2  item_cnt_month_lag_3  \\\n",
       "6734443                   0.0                   0.0                   0.0   \n",
       "6734444                   0.0                   0.0                   0.0   \n",
       "6734445                   0.0                   0.0                   0.0   \n",
       "6734446                   0.0                   0.0                   0.0   \n",
       "6734447                   0.0                   0.0                   0.0   \n",
       "\n",
       "         item_cnt_mean_lag_1  item_cnt_mean_lag_2  item_cnt_mean_lag_3  \n",
       "6734443                  0.0                  0.0                  0.0  \n",
       "6734444                  0.0                  0.0                  0.0  \n",
       "6734445                  0.0                  0.0                  0.0  \n",
       "6734446                  0.0                  0.0                  0.0  \n",
       "6734447                  0.0                  0.0                  0.0  "
      ]
     },
     "execution_count": 13,
     "metadata": {},
     "output_type": "execute_result"
    }
   ],
   "source": [
    "%%time\n",
    "train_lk.tail()"
   ]
  },
  {
   "cell_type": "markdown",
   "metadata": {},
   "source": [
    "### Add price difference with previous months"
   ]
  },
  {
   "cell_type": "code",
   "execution_count": 14,
   "metadata": {},
   "outputs": [],
   "source": [
    "lags = [1, 2]\n",
    "\n",
    "for lag in lags:\n",
    "    train_lk['item_price_mean' + '_lag_' + str(lag)] = train_lk.sort_values('date_block_num')\\\n",
    "    .groupby(['shop_id', 'item_id'])['item_price_mean'].diff(lag)"
   ]
  },
  {
   "cell_type": "markdown",
   "metadata": {},
   "source": [
    "### Add rolling stats"
   ]
  },
  {
   "cell_type": "code",
   "execution_count": 15,
   "metadata": {},
   "outputs": [
    {
     "name": "stdout",
     "output_type": "stream",
     "text": [
      "working on _max ...\n",
      "working on _min ...\n",
      "working on _mean ...\n",
      "working on _std ...\n",
      "CPU times: user 5min 27s, sys: 15.4 s, total: 5min 42s\n",
      "Wall time: 5min 28s\n"
     ]
    }
   ],
   "source": [
    "%%time\n",
    "window_size = 3\n",
    "\n",
    "f_max = lambda x : x.rolling(window_size, min_periods=1).max()\n",
    "f_min = lambda x : x.rolling(window_size, min_periods=1).min()\n",
    "f_mean = lambda x : x.rolling(window_size, min_periods=1).mean()\n",
    "f_std = lambda x: x.rolling(window_size, min_periods=1).std()\n",
    "\n",
    "funcs = [f_max, f_min, f_mean, f_std]\n",
    "func_names = ['_max', '_min', '_mean', '_std']\n",
    "\n",
    "for func, func_name in zip(funcs, func_names):\n",
    "    \n",
    "    print('working on {} ...'.format(func_name))\n",
    "    train_lk['item_cnt_month_' + str(window_size) + func_name] = train_lk.sort_values('date_block_num') \\\n",
    "    .groupby(['shop_id', 'item_id'])['item_cnt_month'].apply(func)"
   ]
  },
  {
   "cell_type": "code",
   "execution_count": 16,
   "metadata": {},
   "outputs": [
    {
     "data": {
      "text/html": [
       "<div>\n",
       "<style scoped>\n",
       "    .dataframe tbody tr th:only-of-type {\n",
       "        vertical-align: middle;\n",
       "    }\n",
       "\n",
       "    .dataframe tbody tr th {\n",
       "        vertical-align: top;\n",
       "    }\n",
       "\n",
       "    .dataframe thead th {\n",
       "        text-align: right;\n",
       "    }\n",
       "</style>\n",
       "<table border=\"1\" class=\"dataframe\">\n",
       "  <thead>\n",
       "    <tr style=\"text-align: right;\">\n",
       "      <th></th>\n",
       "      <th>date_block_num</th>\n",
       "      <th>shop_id</th>\n",
       "      <th>item_id</th>\n",
       "      <th>item_cnt_month</th>\n",
       "      <th>item_cnt_mean</th>\n",
       "      <th>item_price_mean</th>\n",
       "      <th>revenue_sum</th>\n",
       "      <th>revenue_mean</th>\n",
       "      <th>item_category_id</th>\n",
       "      <th>item_cnt_month_lag_1</th>\n",
       "      <th>...</th>\n",
       "      <th>item_cnt_month_lag_3</th>\n",
       "      <th>item_cnt_mean_lag_1</th>\n",
       "      <th>item_cnt_mean_lag_2</th>\n",
       "      <th>item_cnt_mean_lag_3</th>\n",
       "      <th>item_price_mean_lag_1</th>\n",
       "      <th>item_price_mean_lag_2</th>\n",
       "      <th>item_cnt_month_3_max</th>\n",
       "      <th>item_cnt_month_3_min</th>\n",
       "      <th>item_cnt_month_3_mean</th>\n",
       "      <th>item_cnt_month_3_std</th>\n",
       "    </tr>\n",
       "  </thead>\n",
       "  <tbody>\n",
       "    <tr>\n",
       "      <th>5843246</th>\n",
       "      <td>29</td>\n",
       "      <td>38</td>\n",
       "      <td>17717</td>\n",
       "      <td>8.0</td>\n",
       "      <td>1.142857</td>\n",
       "      <td>1267.714286</td>\n",
       "      <td>10010.0</td>\n",
       "      <td>1430.0</td>\n",
       "      <td>79.0</td>\n",
       "      <td>18.0</td>\n",
       "      <td>...</td>\n",
       "      <td>21.0</td>\n",
       "      <td>1.2</td>\n",
       "      <td>1.166667</td>\n",
       "      <td>1.333333</td>\n",
       "      <td>198.047619</td>\n",
       "      <td>10.964286</td>\n",
       "      <td>18.0</td>\n",
       "      <td>8.0</td>\n",
       "      <td>13.333333</td>\n",
       "      <td>5.033223</td>\n",
       "    </tr>\n",
       "    <tr>\n",
       "      <th>3359982</th>\n",
       "      <td>16</td>\n",
       "      <td>34</td>\n",
       "      <td>19999</td>\n",
       "      <td>0.0</td>\n",
       "      <td>0.000000</td>\n",
       "      <td>0.000000</td>\n",
       "      <td>0.0</td>\n",
       "      <td>0.0</td>\n",
       "      <td>0.0</td>\n",
       "      <td>0.0</td>\n",
       "      <td>...</td>\n",
       "      <td>0.0</td>\n",
       "      <td>0.0</td>\n",
       "      <td>0.000000</td>\n",
       "      <td>0.000000</td>\n",
       "      <td>0.000000</td>\n",
       "      <td>0.000000</td>\n",
       "      <td>0.0</td>\n",
       "      <td>0.0</td>\n",
       "      <td>0.000000</td>\n",
       "      <td>0.000000</td>\n",
       "    </tr>\n",
       "    <tr>\n",
       "      <th>1952161</th>\n",
       "      <td>9</td>\n",
       "      <td>5</td>\n",
       "      <td>3034</td>\n",
       "      <td>0.0</td>\n",
       "      <td>0.000000</td>\n",
       "      <td>0.000000</td>\n",
       "      <td>0.0</td>\n",
       "      <td>0.0</td>\n",
       "      <td>0.0</td>\n",
       "      <td>0.0</td>\n",
       "      <td>...</td>\n",
       "      <td>0.0</td>\n",
       "      <td>0.0</td>\n",
       "      <td>0.000000</td>\n",
       "      <td>0.000000</td>\n",
       "      <td>0.000000</td>\n",
       "      <td>0.000000</td>\n",
       "      <td>0.0</td>\n",
       "      <td>0.0</td>\n",
       "      <td>0.000000</td>\n",
       "      <td>0.000000</td>\n",
       "    </tr>\n",
       "    <tr>\n",
       "      <th>5554959</th>\n",
       "      <td>28</td>\n",
       "      <td>3</td>\n",
       "      <td>13587</td>\n",
       "      <td>0.0</td>\n",
       "      <td>0.000000</td>\n",
       "      <td>0.000000</td>\n",
       "      <td>0.0</td>\n",
       "      <td>0.0</td>\n",
       "      <td>0.0</td>\n",
       "      <td>0.0</td>\n",
       "      <td>...</td>\n",
       "      <td>0.0</td>\n",
       "      <td>0.0</td>\n",
       "      <td>0.000000</td>\n",
       "      <td>0.000000</td>\n",
       "      <td>0.000000</td>\n",
       "      <td>0.000000</td>\n",
       "      <td>0.0</td>\n",
       "      <td>0.0</td>\n",
       "      <td>0.000000</td>\n",
       "      <td>0.000000</td>\n",
       "    </tr>\n",
       "    <tr>\n",
       "      <th>453286</th>\n",
       "      <td>2</td>\n",
       "      <td>21</td>\n",
       "      <td>11365</td>\n",
       "      <td>0.0</td>\n",
       "      <td>0.000000</td>\n",
       "      <td>0.000000</td>\n",
       "      <td>0.0</td>\n",
       "      <td>0.0</td>\n",
       "      <td>0.0</td>\n",
       "      <td>0.0</td>\n",
       "      <td>...</td>\n",
       "      <td>NaN</td>\n",
       "      <td>0.0</td>\n",
       "      <td>0.000000</td>\n",
       "      <td>NaN</td>\n",
       "      <td>0.000000</td>\n",
       "      <td>0.000000</td>\n",
       "      <td>0.0</td>\n",
       "      <td>0.0</td>\n",
       "      <td>0.000000</td>\n",
       "      <td>0.000000</td>\n",
       "    </tr>\n",
       "  </tbody>\n",
       "</table>\n",
       "<p>5 rows × 21 columns</p>\n",
       "</div>"
      ],
      "text/plain": [
       "         date_block_num  shop_id  item_id  item_cnt_month  item_cnt_mean  \\\n",
       "5843246              29       38    17717             8.0       1.142857   \n",
       "3359982              16       34    19999             0.0       0.000000   \n",
       "1952161               9        5     3034             0.0       0.000000   \n",
       "5554959              28        3    13587             0.0       0.000000   \n",
       "453286                2       21    11365             0.0       0.000000   \n",
       "\n",
       "         item_price_mean  revenue_sum  revenue_mean  item_category_id  \\\n",
       "5843246      1267.714286      10010.0        1430.0              79.0   \n",
       "3359982         0.000000          0.0           0.0               0.0   \n",
       "1952161         0.000000          0.0           0.0               0.0   \n",
       "5554959         0.000000          0.0           0.0               0.0   \n",
       "453286          0.000000          0.0           0.0               0.0   \n",
       "\n",
       "         item_cnt_month_lag_1          ...           item_cnt_month_lag_3  \\\n",
       "5843246                  18.0          ...                           21.0   \n",
       "3359982                   0.0          ...                            0.0   \n",
       "1952161                   0.0          ...                            0.0   \n",
       "5554959                   0.0          ...                            0.0   \n",
       "453286                    0.0          ...                            NaN   \n",
       "\n",
       "         item_cnt_mean_lag_1  item_cnt_mean_lag_2  item_cnt_mean_lag_3  \\\n",
       "5843246                  1.2             1.166667             1.333333   \n",
       "3359982                  0.0             0.000000             0.000000   \n",
       "1952161                  0.0             0.000000             0.000000   \n",
       "5554959                  0.0             0.000000             0.000000   \n",
       "453286                   0.0             0.000000                  NaN   \n",
       "\n",
       "         item_price_mean_lag_1  item_price_mean_lag_2  item_cnt_month_3_max  \\\n",
       "5843246             198.047619              10.964286                  18.0   \n",
       "3359982               0.000000               0.000000                   0.0   \n",
       "1952161               0.000000               0.000000                   0.0   \n",
       "5554959               0.000000               0.000000                   0.0   \n",
       "453286                0.000000               0.000000                   0.0   \n",
       "\n",
       "         item_cnt_month_3_min  item_cnt_month_3_mean  item_cnt_month_3_std  \n",
       "5843246                   8.0              13.333333              5.033223  \n",
       "3359982                   0.0               0.000000              0.000000  \n",
       "1952161                   0.0               0.000000              0.000000  \n",
       "5554959                   0.0               0.000000              0.000000  \n",
       "453286                    0.0               0.000000              0.000000  \n",
       "\n",
       "[5 rows x 21 columns]"
      ]
     },
     "execution_count": 16,
     "metadata": {},
     "output_type": "execute_result"
    }
   ],
   "source": [
    "train_lk.sample(5)"
   ]
  },
  {
   "cell_type": "markdown",
   "metadata": {},
   "source": [
    "### Add month feature"
   ]
  },
  {
   "cell_type": "code",
   "execution_count": 17,
   "metadata": {},
   "outputs": [],
   "source": [
    "train_lk['month'] = train_lk['date_block_num'] % 12"
   ]
  },
  {
   "cell_type": "markdown",
   "metadata": {},
   "source": [
    "### Identify target"
   ]
  },
  {
   "cell_type": "markdown",
   "metadata": {},
   "source": [
    "Since our job is to predict the next month salses, the target should be next month sales not the current month!"
   ]
  },
  {
   "cell_type": "code",
   "execution_count": 18,
   "metadata": {},
   "outputs": [
    {
     "data": {
      "text/html": [
       "<div>\n",
       "<style scoped>\n",
       "    .dataframe tbody tr th:only-of-type {\n",
       "        vertical-align: middle;\n",
       "    }\n",
       "\n",
       "    .dataframe tbody tr th {\n",
       "        vertical-align: top;\n",
       "    }\n",
       "\n",
       "    .dataframe thead th {\n",
       "        text-align: right;\n",
       "    }\n",
       "</style>\n",
       "<table border=\"1\" class=\"dataframe\">\n",
       "  <thead>\n",
       "    <tr style=\"text-align: right;\">\n",
       "      <th></th>\n",
       "      <th>date_block_num</th>\n",
       "      <th>shop_id</th>\n",
       "      <th>item_id</th>\n",
       "      <th>item_cnt_month</th>\n",
       "      <th>item_cnt_mean</th>\n",
       "      <th>item_price_mean</th>\n",
       "      <th>revenue_sum</th>\n",
       "      <th>revenue_mean</th>\n",
       "      <th>item_category_id</th>\n",
       "      <th>item_cnt_month_lag_1</th>\n",
       "      <th>...</th>\n",
       "      <th>item_cnt_mean_lag_2</th>\n",
       "      <th>item_cnt_mean_lag_3</th>\n",
       "      <th>item_price_mean_lag_1</th>\n",
       "      <th>item_price_mean_lag_2</th>\n",
       "      <th>item_cnt_month_3_max</th>\n",
       "      <th>item_cnt_month_3_min</th>\n",
       "      <th>item_cnt_month_3_mean</th>\n",
       "      <th>item_cnt_month_3_std</th>\n",
       "      <th>month</th>\n",
       "      <th>target</th>\n",
       "    </tr>\n",
       "  </thead>\n",
       "  <tbody>\n",
       "    <tr>\n",
       "      <th>6734443</th>\n",
       "      <td>33</td>\n",
       "      <td>36</td>\n",
       "      <td>9103</td>\n",
       "      <td>0.0</td>\n",
       "      <td>0.0</td>\n",
       "      <td>0.0</td>\n",
       "      <td>0.0</td>\n",
       "      <td>0.0</td>\n",
       "      <td>0.0</td>\n",
       "      <td>0.0</td>\n",
       "      <td>...</td>\n",
       "      <td>0.0</td>\n",
       "      <td>0.0</td>\n",
       "      <td>0.0</td>\n",
       "      <td>0.0</td>\n",
       "      <td>0.0</td>\n",
       "      <td>0.0</td>\n",
       "      <td>0.0</td>\n",
       "      <td>0.0</td>\n",
       "      <td>9</td>\n",
       "      <td>NaN</td>\n",
       "    </tr>\n",
       "    <tr>\n",
       "      <th>6734444</th>\n",
       "      <td>33</td>\n",
       "      <td>36</td>\n",
       "      <td>9107</td>\n",
       "      <td>0.0</td>\n",
       "      <td>0.0</td>\n",
       "      <td>0.0</td>\n",
       "      <td>0.0</td>\n",
       "      <td>0.0</td>\n",
       "      <td>0.0</td>\n",
       "      <td>0.0</td>\n",
       "      <td>...</td>\n",
       "      <td>0.0</td>\n",
       "      <td>0.0</td>\n",
       "      <td>0.0</td>\n",
       "      <td>0.0</td>\n",
       "      <td>0.0</td>\n",
       "      <td>0.0</td>\n",
       "      <td>0.0</td>\n",
       "      <td>0.0</td>\n",
       "      <td>9</td>\n",
       "      <td>NaN</td>\n",
       "    </tr>\n",
       "    <tr>\n",
       "      <th>6734445</th>\n",
       "      <td>33</td>\n",
       "      <td>36</td>\n",
       "      <td>10204</td>\n",
       "      <td>0.0</td>\n",
       "      <td>0.0</td>\n",
       "      <td>0.0</td>\n",
       "      <td>0.0</td>\n",
       "      <td>0.0</td>\n",
       "      <td>0.0</td>\n",
       "      <td>0.0</td>\n",
       "      <td>...</td>\n",
       "      <td>0.0</td>\n",
       "      <td>0.0</td>\n",
       "      <td>0.0</td>\n",
       "      <td>0.0</td>\n",
       "      <td>0.0</td>\n",
       "      <td>0.0</td>\n",
       "      <td>0.0</td>\n",
       "      <td>0.0</td>\n",
       "      <td>9</td>\n",
       "      <td>NaN</td>\n",
       "    </tr>\n",
       "    <tr>\n",
       "      <th>6734446</th>\n",
       "      <td>33</td>\n",
       "      <td>36</td>\n",
       "      <td>12733</td>\n",
       "      <td>0.0</td>\n",
       "      <td>0.0</td>\n",
       "      <td>0.0</td>\n",
       "      <td>0.0</td>\n",
       "      <td>0.0</td>\n",
       "      <td>0.0</td>\n",
       "      <td>0.0</td>\n",
       "      <td>...</td>\n",
       "      <td>0.0</td>\n",
       "      <td>0.0</td>\n",
       "      <td>0.0</td>\n",
       "      <td>0.0</td>\n",
       "      <td>0.0</td>\n",
       "      <td>0.0</td>\n",
       "      <td>0.0</td>\n",
       "      <td>0.0</td>\n",
       "      <td>9</td>\n",
       "      <td>NaN</td>\n",
       "    </tr>\n",
       "    <tr>\n",
       "      <th>6734447</th>\n",
       "      <td>33</td>\n",
       "      <td>36</td>\n",
       "      <td>15925</td>\n",
       "      <td>0.0</td>\n",
       "      <td>0.0</td>\n",
       "      <td>0.0</td>\n",
       "      <td>0.0</td>\n",
       "      <td>0.0</td>\n",
       "      <td>0.0</td>\n",
       "      <td>0.0</td>\n",
       "      <td>...</td>\n",
       "      <td>0.0</td>\n",
       "      <td>0.0</td>\n",
       "      <td>0.0</td>\n",
       "      <td>0.0</td>\n",
       "      <td>0.0</td>\n",
       "      <td>0.0</td>\n",
       "      <td>0.0</td>\n",
       "      <td>0.0</td>\n",
       "      <td>9</td>\n",
       "      <td>NaN</td>\n",
       "    </tr>\n",
       "  </tbody>\n",
       "</table>\n",
       "<p>5 rows × 23 columns</p>\n",
       "</div>"
      ],
      "text/plain": [
       "         date_block_num  shop_id  item_id  item_cnt_month  item_cnt_mean  \\\n",
       "6734443              33       36     9103             0.0            0.0   \n",
       "6734444              33       36     9107             0.0            0.0   \n",
       "6734445              33       36    10204             0.0            0.0   \n",
       "6734446              33       36    12733             0.0            0.0   \n",
       "6734447              33       36    15925             0.0            0.0   \n",
       "\n",
       "         item_price_mean  revenue_sum  revenue_mean  item_category_id  \\\n",
       "6734443              0.0          0.0           0.0               0.0   \n",
       "6734444              0.0          0.0           0.0               0.0   \n",
       "6734445              0.0          0.0           0.0               0.0   \n",
       "6734446              0.0          0.0           0.0               0.0   \n",
       "6734447              0.0          0.0           0.0               0.0   \n",
       "\n",
       "         item_cnt_month_lag_1   ...    item_cnt_mean_lag_2  \\\n",
       "6734443                   0.0   ...                    0.0   \n",
       "6734444                   0.0   ...                    0.0   \n",
       "6734445                   0.0   ...                    0.0   \n",
       "6734446                   0.0   ...                    0.0   \n",
       "6734447                   0.0   ...                    0.0   \n",
       "\n",
       "         item_cnt_mean_lag_3  item_price_mean_lag_1  item_price_mean_lag_2  \\\n",
       "6734443                  0.0                    0.0                    0.0   \n",
       "6734444                  0.0                    0.0                    0.0   \n",
       "6734445                  0.0                    0.0                    0.0   \n",
       "6734446                  0.0                    0.0                    0.0   \n",
       "6734447                  0.0                    0.0                    0.0   \n",
       "\n",
       "         item_cnt_month_3_max  item_cnt_month_3_min  item_cnt_month_3_mean  \\\n",
       "6734443                   0.0                   0.0                    0.0   \n",
       "6734444                   0.0                   0.0                    0.0   \n",
       "6734445                   0.0                   0.0                    0.0   \n",
       "6734446                   0.0                   0.0                    0.0   \n",
       "6734447                   0.0                   0.0                    0.0   \n",
       "\n",
       "         item_cnt_month_3_std  month  target  \n",
       "6734443                   0.0      9     NaN  \n",
       "6734444                   0.0      9     NaN  \n",
       "6734445                   0.0      9     NaN  \n",
       "6734446                   0.0      9     NaN  \n",
       "6734447                   0.0      9     NaN  \n",
       "\n",
       "[5 rows x 23 columns]"
      ]
     },
     "execution_count": 18,
     "metadata": {},
     "output_type": "execute_result"
    }
   ],
   "source": [
    "train_lk['target'] = train_lk.sort_values('date_block_num').groupby(['shop_id', 'item_id'])['item_cnt_month'].shift(-1)\n",
    "train_lk.tail()"
   ]
  },
  {
   "cell_type": "markdown",
   "metadata": {},
   "source": [
    "### Train, val, test splitting"
   ]
  },
  {
   "cell_type": "code",
   "execution_count": 19,
   "metadata": {},
   "outputs": [],
   "source": [
    "df_train = train_lk[(train_lk.date_block_num > 2) & (train_lk.date_block_num < 30)]\n",
    "df_val = train_lk[(train_lk.date_block_num >=30) & (train_lk.date_block_num <= 32)]\n",
    "df_test = pd.merge(test, train_lk[train_lk.date_block_num == 33], how='left', on=['shop_id', 'item_id'])\\\n",
    "    .drop('target', axis=1)"
   ]
  },
  {
   "cell_type": "markdown",
   "metadata": {},
   "source": [
    "### Mean encoding"
   ]
  },
  {
   "cell_type": "code",
   "execution_count": 21,
   "metadata": {},
   "outputs": [
    {
     "name": "stdout",
     "output_type": "stream",
     "text": [
      "CPU times: user 16.7 s, sys: 11.6 s, total: 28.3 s\n",
      "Wall time: 17.5 s\n"
     ]
    }
   ],
   "source": [
    "%%time\n",
    "enc_cols = ['shop_id', 'item_id', 'month', 'date_block_num']\n",
    "\n",
    "#### first order mean encoding ####\n",
    "for col in enc_cols:\n",
    "    df_enc = df_train.groupby(col, as_index=False) \\\n",
    "    .agg({'target': 'mean'}).rename({'target': col + '_mean_enc'}, axis=1)\n",
    "    \n",
    "    df_train = df_train.merge(df_enc, on=col, how='left')\n",
    "    df_val = df_val.merge(df_enc, on=col, how='left')\n",
    "    df_test = df_test.merge(df_enc, on=col, how='left')\n",
    "  "
   ]
  },
  {
   "cell_type": "code",
   "execution_count": 23,
   "metadata": {},
   "outputs": [
    {
     "name": "stderr",
     "output_type": "stream",
     "text": [
      "/anaconda3/lib/python3.6/site-packages/ipykernel_launcher.py:4: FutureWarning: Interpreting tuple 'by' as a list of keys, rather than a single key. Use 'by=[...]' instead of 'by=(...)'. In the future, a tuple will always mean a single key.\n",
      "  after removing the cwd from sys.path.\n"
     ]
    },
    {
     "name": "stdout",
     "output_type": "stream",
     "text": [
      "CPU times: user 33.7 s, sys: 20.8 s, total: 54.5 s\n",
      "Wall time: 33.2 s\n"
     ]
    }
   ],
   "source": [
    "%%time\n",
    "#### second order mean encoding ####\n",
    "for col_pair in combinations(enc_cols, 2):\n",
    "    pair_name = col_pair[0] + '_' + col_pair[1]\n",
    "    df_enc = df_train.groupby(col_pair, as_index=False) \\\n",
    "    .agg({'target': 'mean'}).rename({'target': pair_name + '_mean_enc'}, axis=1)\n",
    "    \n",
    "    df_train = df_train.merge(df_enc, on=col_pair, how='left')\n",
    "    df_val = df_val.merge(df_enc, on=col_pair, how='left')\n",
    "    df_test = df_test.merge(df_enc, on=col_pair, how='left')"
   ]
  },
  {
   "cell_type": "markdown",
   "metadata": {},
   "source": [
    "### Select correct columns"
   ]
  },
  {
   "cell_type": "code",
   "execution_count": 26,
   "metadata": {},
   "outputs": [],
   "source": [
    "train_cols = df_train.columns.values.tolist()\n",
    "train_cols.remove('target')\n",
    "\n",
    "label_col = 'target'\n",
    "\n",
    "x_train, y_train = df_train[train_cols], df_train[label_col]\n",
    "x_val, y_val = df_val[train_cols], df_val[label_col]"
   ]
  },
  {
   "cell_type": "markdown",
   "metadata": {},
   "source": [
    "### Fill NAs in validation with zeros"
   ]
  },
  {
   "cell_type": "code",
   "execution_count": 33,
   "metadata": {},
   "outputs": [
    {
     "name": "stderr",
     "output_type": "stream",
     "text": [
      "/anaconda3/lib/python3.6/site-packages/pandas/core/frame.py:3787: SettingWithCopyWarning: \n",
      "A value is trying to be set on a copy of a slice from a DataFrame\n",
      "\n",
      "See the caveats in the documentation: http://pandas.pydata.org/pandas-docs/stable/indexing.html#indexing-view-versus-copy\n",
      "  downcast=downcast, **kwargs)\n"
     ]
    }
   ],
   "source": [
    "x_val.fillna(0, inplace=True)"
   ]
  },
  {
   "cell_type": "markdown",
   "metadata": {},
   "source": [
    "### Fill NAs in Test with zeros"
   ]
  },
  {
   "cell_type": "code",
   "execution_count": 27,
   "metadata": {},
   "outputs": [
    {
     "name": "stderr",
     "output_type": "stream",
     "text": [
      "/anaconda3/lib/python3.6/site-packages/pandas/core/frame.py:3787: SettingWithCopyWarning: \n",
      "A value is trying to be set on a copy of a slice from a DataFrame\n",
      "\n",
      "See the caveats in the documentation: http://pandas.pydata.org/pandas-docs/stable/indexing.html#indexing-view-versus-copy\n",
      "  downcast=downcast, **kwargs)\n"
     ]
    }
   ],
   "source": [
    "x_test = df_test[train_cols]\n",
    "x_test.fillna(0, inplace=True)"
   ]
  },
  {
   "cell_type": "code",
   "execution_count": 34,
   "metadata": {},
   "outputs": [
    {
     "data": {
      "text/plain": [
       "date_block_num                     0\n",
       "shop_id                            0\n",
       "item_id                            0\n",
       "item_cnt_month                     0\n",
       "item_cnt_mean                      0\n",
       "item_price_mean                    0\n",
       "revenue_sum                        0\n",
       "revenue_mean                       0\n",
       "item_category_id                   0\n",
       "item_cnt_month_lag_1               0\n",
       "item_cnt_month_lag_2               0\n",
       "item_cnt_month_lag_3               0\n",
       "item_cnt_mean_lag_1                0\n",
       "item_cnt_mean_lag_2                0\n",
       "item_cnt_mean_lag_3                0\n",
       "item_price_mean_lag_1              0\n",
       "item_price_mean_lag_2              0\n",
       "item_cnt_month_3_max               0\n",
       "item_cnt_month_3_min               0\n",
       "item_cnt_month_3_mean              0\n",
       "item_cnt_month_3_std               0\n",
       "month                              0\n",
       "shop_id_mean_enc                   0\n",
       "item_id_mean_enc                   0\n",
       "month_mean_enc                     0\n",
       "date_block_num_mean_enc            0\n",
       "shop_id_item_id_mean_enc           0\n",
       "shop_id_month_mean_enc             0\n",
       "shop_id_date_block_num_mean_enc    0\n",
       "item_id_month_mean_enc             0\n",
       "item_id_date_block_num_mean_enc    0\n",
       "month_date_block_num_mean_enc      0\n",
       "dtype: int64"
      ]
     },
     "execution_count": 34,
     "metadata": {},
     "output_type": "execute_result"
    }
   ],
   "source": [
    "x_test.isnull().sum()"
   ]
  },
  {
   "cell_type": "code",
   "execution_count": 35,
   "metadata": {},
   "outputs": [
    {
     "data": {
      "text/plain": [
       "date_block_num                     0\n",
       "shop_id                            0\n",
       "item_id                            0\n",
       "item_cnt_month                     0\n",
       "item_cnt_mean                      0\n",
       "item_price_mean                    0\n",
       "revenue_sum                        0\n",
       "revenue_mean                       0\n",
       "item_category_id                   0\n",
       "item_cnt_month_lag_1               0\n",
       "item_cnt_month_lag_2               0\n",
       "item_cnt_month_lag_3               0\n",
       "item_cnt_mean_lag_1                0\n",
       "item_cnt_mean_lag_2                0\n",
       "item_cnt_mean_lag_3                0\n",
       "item_price_mean_lag_1              0\n",
       "item_price_mean_lag_2              0\n",
       "item_cnt_month_3_max               0\n",
       "item_cnt_month_3_min               0\n",
       "item_cnt_month_3_mean              0\n",
       "item_cnt_month_3_std               0\n",
       "month                              0\n",
       "shop_id_mean_enc                   0\n",
       "item_id_mean_enc                   0\n",
       "month_mean_enc                     0\n",
       "date_block_num_mean_enc            0\n",
       "shop_id_item_id_mean_enc           0\n",
       "shop_id_month_mean_enc             0\n",
       "shop_id_date_block_num_mean_enc    0\n",
       "item_id_month_mean_enc             0\n",
       "item_id_date_block_num_mean_enc    0\n",
       "month_date_block_num_mean_enc      0\n",
       "dtype: int64"
      ]
     },
     "execution_count": 35,
     "metadata": {},
     "output_type": "execute_result"
    }
   ],
   "source": [
    "x_val.isnull().sum()"
   ]
  },
  {
   "cell_type": "markdown",
   "metadata": {},
   "source": [
    "### Gradient boosting tree"
   ]
  },
  {
   "cell_type": "code",
   "execution_count": 29,
   "metadata": {},
   "outputs": [],
   "source": [
    "from sklearn.ensemble import GradientBoostingRegressor, RandomForestClassifier\n",
    "from sklearn.metrics import mean_squared_error"
   ]
  },
  {
   "cell_type": "code",
   "execution_count": 37,
   "metadata": {},
   "outputs": [
    {
     "name": "stdout",
     "output_type": "stream",
     "text": [
      "CPU times: user 14min 33s, sys: 13.4 s, total: 14min 46s\n",
      "Wall time: 14min 46s\n"
     ]
    }
   ],
   "source": [
    "%%time\n",
    "params = {\n",
    "    'learning_rate': 0.1,\n",
    "    'max_depth': 3,\n",
    "    'n_estimators': 100,\n",
    "    'subsample': 0.5,\n",
    "    'random_state': 41\n",
    "}\n",
    "\n",
    "\n",
    "gbr = GradientBoostingRegressor(**params)\n",
    "gbr.fit(x_train, y_train)"
   ]
  },
  {
   "cell_type": "code",
   "execution_count": 38,
   "metadata": {},
   "outputs": [
    {
     "name": "stdout",
     "output_type": "stream",
     "text": [
      "train RMSE:  0.5268404038242678\n",
      "validation RMSE:  1.0041617210518001\n"
     ]
    }
   ],
   "source": [
    "y_pred_train = gbr.predict(x_train)\n",
    "print('train RMSE: ', np.sqrt(mean_squared_error(y_train, y_pred_train)))\n",
    "y_pred_val = gbr.predict(x_val)\n",
    "print('validation RMSE: ', np.sqrt(mean_squared_error(y_val, y_pred_val)))"
   ]
  },
  {
   "cell_type": "code",
   "execution_count": null,
   "metadata": {},
   "outputs": [],
   "source": [
    "# y_pred_test = gbr.predict(x_test)\n",
    "# pred_test = test.copy()\n",
    "# pred_test['item_cnt_month'] = y_pred_test\n",
    "# save_pred_to_csv(pred_test, msg='three_month_lag-zero_fill_shop_item_month_mean_enc-two_month_price_lag-rolling-stats')"
   ]
  },
  {
   "cell_type": "markdown",
   "metadata": {},
   "source": [
    "with outlier\n",
    "train RMSE:  1.8482461723357235\n",
    "validation RMSE:  3.116295303446713\n",
    "\n",
    "without outlier\n",
    "train RMSE:  0.8136265756274446\n",
    "validation RMSE:  0.9271415425647744\n",
    "\n",
    "with shop, item, month mean encoding\n",
    "train RMSE:  0.783626998745065\n",
    "validation RMSE:  0.9236206120907205\n",
    "\n",
    "with shop, item, month mean encoding plus 2, 3 month lag\n",
    "train RMSE:  0.7878361503843763\n",
    "validation RMSE:  0.9178575199731875\n",
    "\n",
    "with shop, item, month mean encoding plus 3 month lag, rolling stats, 1, 2 month price diff\n",
    "train RMSE:  0.7841229329310745\n",
    "validation RMSE:  0.9147349797087506"
   ]
  },
  {
   "cell_type": "code",
   "execution_count": null,
   "metadata": {},
   "outputs": [],
   "source": []
  }
 ],
 "metadata": {
  "kernelspec": {
   "display_name": "Python 3",
   "language": "python",
   "name": "python3"
  },
  "language_info": {
   "codemirror_mode": {
    "name": "ipython",
    "version": 3
   },
   "file_extension": ".py",
   "mimetype": "text/x-python",
   "name": "python",
   "nbconvert_exporter": "python",
   "pygments_lexer": "ipython3",
   "version": "3.6.5"
  }
 },
 "nbformat": 4,
 "nbformat_minor": 2
}
